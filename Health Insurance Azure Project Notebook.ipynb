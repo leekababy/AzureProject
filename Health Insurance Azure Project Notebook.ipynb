{
    "metadata": {
        "kernelspec": {
            "name": "SQL",
            "display_name": "SQL",
            "language": "sql"
        },
        "language_info": {
            "name": "sql",
            "version": ""
        }
    },
    "nbformat_minor": 2,
    "nbformat": 4,
    "cells": [
        {
            "cell_type": "markdown",
            "source": [
                "**Q: What are the total charges for customers based on sex?**"
            ],
            "metadata": {
                "azdata_cell_guid": "424c5280-f36f-4a53-a1b8-c46411dd4703"
            },
            "attachments": {}
        },
        {
            "cell_type": "markdown",
            "source": [
                "The purpose of this question is to provide clarity on which sex has the highest predictated charge of health insurance anually. This code shows males have a higher amount of health insurace charges with 9 million dollars in total predicted versus a females having 8 million dollars predicted as a new customer anually."
            ],
            "metadata": {
                "language": "sql",
                "azdata_cell_guid": "da9356a4-ccb3-4d9e-856f-481394280788"
            },
            "attachments": {}
        },
        {
            "cell_type": "markdown",
            "source": [
                "The graph Chart\\_1 shows that male customers pay the highest amount of total charges for this data set"
            ],
            "metadata": {
                "azdata_cell_guid": "7ac76616-4f36-4bae-8665-7e2c31d540d3"
            },
            "attachments": {}
        },
        {
            "cell_type": "code",
            "source": [
                "SELECT sex, SUM(charges) AS total_charges\r\n",
                "FROM Health_insurance\r\n",
                "GROUP BY sex;"
            ],
            "metadata": {
                "azdata_cell_guid": "58373b62-9510-405b-b4d7-5b4369e2031e",
                "language": "sql",
                "tags": [
                    "hide_input"
                ]
            },
            "outputs": [
                {
                    "output_type": "display_data",
                    "data": {
                        "text/html": "(2 rows affected)"
                    },
                    "metadata": {}
                },
                {
                    "output_type": "display_data",
                    "data": {
                        "text/html": "Total execution time: 00:00:00.018"
                    },
                    "metadata": {}
                },
                {
                    "output_type": "execute_result",
                    "execution_count": 6,
                    "data": {
                        "application/vnd.dataresource+json": {
                            "schema": {
                                "fields": [
                                    {
                                        "name": "sex"
                                    },
                                    {
                                        "name": "total_charges"
                                    }
                                ]
                            },
                            "data": [
                                {
                                    "sex": "male",
                                    "total_charges": "9434763.783447266"
                                },
                                {
                                    "sex": "female",
                                    "total_charges": "8321061.199951172"
                                }
                            ]
                        },
                        "text/html": "<table><tr><th>sex</th><th>total_charges</th></tr><tr><td>male</td><td>9434763.783447266</td></tr><tr><td>female</td><td>8321061.199951172</td></tr></table>"
                    },
                    "metadata": {
                        "azdata_chartOptions": {
                            "type": "bar",
                            "dataDirection": "horizontal",
                            "columnsAsLabels": true,
                            "labelFirstColumn": true,
                            "legendPosition": "top",
                            "dataType": "number"
                        }
                    }
                }
            ],
            "execution_count": 6
        },
        {
            "cell_type": "markdown",
            "source": [
                "**Q: What is the age group among female customers that pay the highest new customer rate for health insurance annually?**"
            ],
            "metadata": {
                "azdata_cell_guid": "8c18ed49-54e3-48f9-8d04-409ddc2261b9"
            },
            "attachments": {}
        },
        {
            "cell_type": "markdown",
            "source": [
                "The question aims to determine at what age among female customers pay the highest new customer rate in total health insurance fees. This code shows that the female category in the age group 55-64 is predicted to have the highest <span style=\"color: var(--vscode-foreground);\">new customer&nbsp;</span> <span style=\"color: var(--vscode-foreground);\">total charge of insurance fees. This is visualized in Chart_2.&nbsp;</span>"
            ],
            "metadata": {
                "azdata_cell_guid": "69e572c9-10a6-4b1a-aefc-0cf0e8cd8397"
            },
            "attachments": {}
        },
        {
            "cell_type": "code",
            "source": [
                "SELECT\r\n",
                "    CASE\r\n",
                "        WHEN [age] BETWEEN 18 AND 24 THEN '18-24'\r\n",
                "        WHEN [age] BETWEEN 25 AND 34 THEN '25-34'\r\n",
                "        WHEN [age] BETWEEN 35 AND 44 THEN '35-44'\r\n",
                "        WHEN [age] BETWEEN 45 AND 54 THEN '45-54'\r\n",
                "        WHEN [age] BETWEEN 55 AND 64 THEN '55-64'\r\n",
                "    END AS age_group,\r\n",
                "    [sex],\r\n",
                "    SUM([charges]) AS total_charges\r\n",
                "FROM Health_insurance\r\n",
                "WHERE [sex] = 'female'\r\n",
                "GROUP BY CASE\r\n",
                "        WHEN [age] BETWEEN 18 AND 24 THEN '18-24'\r\n",
                "        WHEN [age] BETWEEN 25 AND 34 THEN '25-34'\r\n",
                "        WHEN [age] BETWEEN 35 AND 44 THEN '35-44'\r\n",
                "        WHEN [age] BETWEEN 45 AND 54 THEN '45-54'\r\n",
                "        WHEN [age] BETWEEN 55 AND 64 THEN '55-64'\r\n",
                "    END, [sex];"
            ],
            "metadata": {
                "azdata_cell_guid": "b7404a03-fead-43d5-aae5-fa5ac9b1d80f",
                "language": "sql",
                "tags": []
            },
            "outputs": [
                {
                    "output_type": "display_data",
                    "data": {
                        "text/html": "(5 rows affected)"
                    },
                    "metadata": {}
                },
                {
                    "output_type": "display_data",
                    "data": {
                        "text/html": "Total execution time: 00:00:00.014"
                    },
                    "metadata": {}
                },
                {
                    "output_type": "execute_result",
                    "execution_count": 8,
                    "data": {
                        "application/vnd.dataresource+json": {
                            "schema": {
                                "fields": [
                                    {
                                        "name": "age_group"
                                    },
                                    {
                                        "name": "sex"
                                    },
                                    {
                                        "name": "total_charges"
                                    }
                                ]
                            },
                            "data": [
                                {
                                    "age_group": "18-24",
                                    "sex": "female",
                                    "total_charges": "1156415.8017578125"
                                },
                                {
                                    "age_group": "25-34",
                                    "sex": "female",
                                    "total_charges": "1222762.0173339844"
                                },
                                {
                                    "age_group": "35-44",
                                    "sex": "female",
                                    "total_charges": "1605393.1948242188"
                                },
                                {
                                    "age_group": "45-54",
                                    "sex": "female",
                                    "total_charges": "2144694.4780273438"
                                },
                                {
                                    "age_group": "55-64",
                                    "sex": "female",
                                    "total_charges": "2191795.7080078125"
                                }
                            ]
                        },
                        "text/html": "<table><tr><th>age_group</th><th>sex</th><th>total_charges</th></tr><tr><td>18-24</td><td>female</td><td>1156415.8017578125</td></tr><tr><td>25-34</td><td>female</td><td>1222762.0173339844</td></tr><tr><td>35-44</td><td>female</td><td>1605393.1948242188</td></tr><tr><td>45-54</td><td>female</td><td>2144694.4780273438</td></tr><tr><td>55-64</td><td>female</td><td>2191795.7080078125</td></tr></table>"
                    },
                    "metadata": {
                        "azdata_chartOptions": {
                            "type": "bar",
                            "dataDirection": "vertical",
                            "columnsAsLabels": true,
                            "labelFirstColumn": false,
                            "legendPosition": "top",
                            "dataType": "number"
                        }
                    }
                }
            ],
            "execution_count": 8
        },
        {
            "cell_type": "markdown",
            "source": [
                "**Q: What is the age group among male customers that pay the highest new customer rate for health insurance annually?**"
            ],
            "metadata": {
                "azdata_cell_guid": "0c15f2dc-0f13-4929-8487-195774ea6c47"
            },
            "attachments": {}
        },
        {
            "cell_type": "markdown",
            "source": [
                "The question aims to determine at what age male customers pay the highest new customer rate in total health insurance fees. This code shows that the male category in the age group 55-64 is predicted to have the highest <span style=\"color: var(--vscode-foreground);\">new customer&nbsp;</span> <span style=\"color: var(--vscode-foreground);\">total charge of insurance fees. Under Chart_3, the gradual progression is seen.</span>"
            ],
            "metadata": {
                "azdata_cell_guid": "5440c294-80a3-4972-a144-8ad82a34ffc6"
            },
            "attachments": {}
        },
        {
            "cell_type": "code",
            "source": [
                "SELECT\r\n",
                "    CASE\r\n",
                "        WHEN [age] BETWEEN 18 AND 24 THEN '18-24'\r\n",
                "        WHEN [age] BETWEEN 25 AND 34 THEN '25-34'\r\n",
                "        WHEN [age] BETWEEN 35 AND 44 THEN '35-44'\r\n",
                "        WHEN [age] BETWEEN 45 AND 54 THEN '45-54'\r\n",
                "        WHEN [age] BETWEEN 55 AND 64 THEN '55-64'\r\n",
                "    END AS age_group,\r\n",
                "    [sex],\r\n",
                "    SUM([charges]) AS total_charges\r\n",
                "FROM Health_insurance\r\n",
                "WHERE [sex] = 'male'\r\n",
                "GROUP BY CASE\r\n",
                "        WHEN [age] BETWEEN 18 AND 24 THEN '18-24'\r\n",
                "        WHEN [age] BETWEEN 25 AND 34 THEN '25-34'\r\n",
                "        WHEN [age] BETWEEN 35 AND 44 THEN '35-44'\r\n",
                "        WHEN [age] BETWEEN 45 AND 54 THEN '45-54'\r\n",
                "        WHEN [age] BETWEEN 55 AND 64 THEN '55-64'\r\n",
                "    END, [sex];"
            ],
            "metadata": {
                "azdata_cell_guid": "afba3e0d-ba06-4393-b75b-e67124f9bf49",
                "language": "sql"
            },
            "outputs": [
                {
                    "output_type": "display_data",
                    "data": {
                        "text/html": "(5 rows affected)"
                    },
                    "metadata": {}
                },
                {
                    "output_type": "display_data",
                    "data": {
                        "text/html": "Total execution time: 00:00:00.013"
                    },
                    "metadata": {}
                },
                {
                    "output_type": "execute_result",
                    "execution_count": 9,
                    "data": {
                        "application/vnd.dataresource+json": {
                            "schema": {
                                "fields": [
                                    {
                                        "name": "age_group"
                                    },
                                    {
                                        "name": "sex"
                                    },
                                    {
                                        "name": "total_charges"
                                    }
                                ]
                            },
                            "data": [
                                {
                                    "age_group": "18-24",
                                    "sex": "male",
                                    "total_charges": "1348736.8020019531"
                                },
                                {
                                    "age_group": "25-34",
                                    "sex": "male",
                                    "total_charges": "1582736.3559570312"
                                },
                                {
                                    "age_group": "35-44",
                                    "sex": "male",
                                    "total_charges": "1809490.6499023438"
                                },
                                {
                                    "age_group": "45-54",
                                    "sex": "male",
                                    "total_charges": "2405382.837890625"
                                },
                                {
                                    "age_group": "55-64",
                                    "sex": "male",
                                    "total_charges": "2288417.1376953125"
                                }
                            ]
                        },
                        "text/html": "<table><tr><th>age_group</th><th>sex</th><th>total_charges</th></tr><tr><td>18-24</td><td>male</td><td>1348736.8020019531</td></tr><tr><td>25-34</td><td>male</td><td>1582736.3559570312</td></tr><tr><td>35-44</td><td>male</td><td>1809490.6499023438</td></tr><tr><td>45-54</td><td>male</td><td>2405382.837890625</td></tr><tr><td>55-64</td><td>male</td><td>2288417.1376953125</td></tr></table>"
                    },
                    "metadata": {
                        "azdata_chartOptions": {
                            "type": "bar",
                            "dataDirection": "vertical",
                            "columnsAsLabels": true,
                            "labelFirstColumn": false,
                            "legendPosition": "top"
                        }
                    }
                }
            ],
            "execution_count": 9
        },
        {
            "cell_type": "markdown",
            "source": [
                "**Q: What are the average charges of customers by age group?**"
            ],
            "metadata": {
                "azdata_cell_guid": "73bdd184-28e1-4428-a60a-cc8ddd9943e6"
            },
            "attachments": {}
        },
        {
            "cell_type": "markdown",
            "source": [
                "The purpose of this question is to find out what is the average annual charge and age group of customer health insurance. The following code provides the age 55-64 has the highest yearly average charge as a new customer. Under Chart\\_7, this data is a visualization to show that the average charge increases as the age group rises in a 3-dimensional view, while Chart\\_4 shows the result in 2D. . The average charge from the lowest age group to the highest increases."
            ],
            "metadata": {
                "azdata_cell_guid": "bb587614-d9a5-43ca-bf8a-58620cd0ebcc"
            },
            "attachments": {}
        },
        {
            "cell_type": "code",
            "source": [
                "SELECT\r\n",
                "    CASE\r\n",
                "        WHEN [age] BETWEEN 18 AND 24 THEN '18-24'\r\n",
                "        WHEN [age] BETWEEN 25 AND 34 THEN '25-34'\r\n",
                "        WHEN [age] BETWEEN 35 AND 44 THEN '35-44'\r\n",
                "        WHEN [age] BETWEEN 45 AND 54 THEN '45-54'\r\n",
                "        WHEN [age] BETWEEN 55 AND 64 THEN '55-64'\r\n",
                "    END AS age_group,\r\n",
                "    AVG([charges]) AS avg_charges\r\n",
                "FROM Health_insurance\r\n",
                "GROUP BY CASE\r\n",
                "        WHEN [age] BETWEEN 18 AND 24 THEN '18-24'\r\n",
                "        WHEN [age] BETWEEN 25 AND 34 THEN '25-34'\r\n",
                "        WHEN [age] BETWEEN 35 AND 44 THEN '35-44'\r\n",
                "        WHEN [age] BETWEEN 45 AND 54 THEN '45-54'\r\n",
                "        WHEN [age] BETWEEN 55 AND 64 THEN '55-64'\r\n",
                "    END\r\n",
                "ORDER BY age_group;"
            ],
            "metadata": {
                "language": "sql",
                "azdata_cell_guid": "43748fc8-b5f2-4c47-9149-b33a86f677f4"
            },
            "outputs": [
                {
                    "output_type": "display_data",
                    "data": {
                        "text/html": "(5 rows affected)"
                    },
                    "metadata": {}
                },
                {
                    "output_type": "display_data",
                    "data": {
                        "text/html": "Total execution time: 00:00:00.014"
                    },
                    "metadata": {}
                },
                {
                    "output_type": "execute_result",
                    "execution_count": 14,
                    "data": {
                        "application/vnd.dataresource+json": {
                            "schema": {
                                "fields": [
                                    {
                                        "name": "age_group"
                                    },
                                    {
                                        "name": "avg_charges"
                                    }
                                ]
                            },
                            "data": [
                                {
                                    "age_group": "18-24",
                                    "avg_charges": "9011.340301294122"
                                },
                                {
                                    "age_group": "25-34",
                                    "avg_charges": "10352.392521369062"
                                },
                                {
                                    "age_group": "35-44",
                                    "avg_charges": "13134.168633563702"
                                },
                                {
                                    "age_group": "45-54",
                                    "avg_charges": "15853.927930027765"
                                },
                                {
                                    "age_group": "55-64",
                                    "avg_charges": "18513.27622191374"
                                }
                            ]
                        },
                        "text/html": "<table><tr><th>age_group</th><th>avg_charges</th></tr><tr><td>18-24</td><td>9011.340301294122</td></tr><tr><td>25-34</td><td>10352.392521369062</td></tr><tr><td>35-44</td><td>13134.168633563702</td></tr><tr><td>45-54</td><td>15853.927930027765</td></tr><tr><td>55-64</td><td>18513.27622191374</td></tr></table>"
                    },
                    "metadata": {
                        "azdata_chartOptions": {
                            "type": "horizontalBar",
                            "dataDirection": "horizontal",
                            "columnsAsLabels": true,
                            "labelFirstColumn": true,
                            "legendPosition": "top"
                        }
                    }
                }
            ],
            "execution_count": 14
        },
        {
            "cell_type": "markdown",
            "source": [
                "**Q: Compare average health insurance charges from a smoker versus a non-smoker.**"
            ],
            "metadata": {
                "language": "sql",
                "azdata_cell_guid": "030718bc-8a7f-4827-86fa-23ae8d078bfb"
            },
            "attachments": {}
        },
        {
            "cell_type": "markdown",
            "source": [
                "As shown in Chart\\_5, based on the data set, smokers pay 4 times more on average to non-smokers."
            ],
            "metadata": {
                "language": "sql",
                "azdata_cell_guid": "57909832-24eb-422f-8d85-f3b24e4a7baa"
            },
            "attachments": {}
        },
        {
            "cell_type": "code",
            "source": [
                "SELECT [smoker], AVG([charges]) AS avg_charges\r\n",
                "FROM Health_insurance\r\n",
                "GROUP BY [smoker];"
            ],
            "metadata": {
                "azdata_cell_guid": "1220c5e2-bdfb-485f-aef2-b7c695f3f864",
                "language": "sql"
            },
            "outputs": [
                {
                    "output_type": "display_data",
                    "data": {
                        "text/html": "(2 rows affected)"
                    },
                    "metadata": {}
                },
                {
                    "output_type": "display_data",
                    "data": {
                        "text/html": "Total execution time: 00:00:00.006"
                    },
                    "metadata": {}
                },
                {
                    "output_type": "execute_result",
                    "execution_count": 19,
                    "data": {
                        "application/vnd.dataresource+json": {
                            "schema": {
                                "fields": [
                                    {
                                        "name": "smoker"
                                    },
                                    {
                                        "name": "avg_charges"
                                    }
                                ]
                            },
                            "data": [
                                {
                                    "smoker": "0",
                                    "avg_charges": "8434.268304122123"
                                },
                                {
                                    "smoker": "1",
                                    "avg_charges": "32050.23178033759"
                                }
                            ]
                        },
                        "text/html": "<table><tr><th>smoker</th><th>avg_charges</th></tr><tr><td>0</td><td>8434.268304122123</td></tr><tr><td>1</td><td>32050.23178033759</td></tr></table>"
                    },
                    "metadata": {
                        "azdata_chartOptions": {
                            "type": "bar",
                            "dataDirection": "horizontal",
                            "columnsAsLabels": true,
                            "labelFirstColumn": true,
                            "legendPosition": "top"
                        }
                    }
                }
            ],
            "execution_count": 19
        },
        {
            "cell_type": "markdown",
            "source": [
                "**Q: What are the average charges by region?**"
            ],
            "metadata": {
                "azdata_cell_guid": "b8856b8e-6d70-42b4-af49-eb20fde2f387"
            },
            "attachments": {}
        },
        {
            "cell_type": "markdown",
            "source": [
                "The graph Chart\\_6 shows the average charges per region where the southwest has the lowest charge per person."
            ],
            "metadata": {
                "azdata_cell_guid": "b69c9d75-991b-469d-ae65-c662f7b93591"
            },
            "attachments": {}
        },
        {
            "cell_type": "code",
            "source": [
                "SELECT [region], AVG([charges]) AS avg_charges\r\n",
                "FROM Health_insurance\r\n",
                "GROUP BY [region]"
            ],
            "metadata": {
                "azdata_cell_guid": "cd5af91c-0e7b-4ce7-8ea8-088746952579",
                "language": "sql"
            },
            "outputs": [
                {
                    "output_type": "display_data",
                    "data": {
                        "text/html": "(4 rows affected)"
                    },
                    "metadata": {}
                },
                {
                    "output_type": "display_data",
                    "data": {
                        "text/html": "Total execution time: 00:00:00.054"
                    },
                    "metadata": {}
                },
                {
                    "output_type": "execute_result",
                    "execution_count": 2,
                    "data": {
                        "application/vnd.dataresource+json": {
                            "schema": {
                                "fields": [
                                    {
                                        "name": "region"
                                    },
                                    {
                                        "name": "avg_charges"
                                    }
                                ]
                            },
                            "data": [
                                {
                                    "region": "northeast",
                                    "avg_charges": "13406.38453128014"
                                },
                                {
                                    "region": "southwest",
                                    "avg_charges": "12346.93732797476"
                                },
                                {
                                    "region": "northwest",
                                    "avg_charges": "12417.575369591346"
                                },
                                {
                                    "region": "southeast",
                                    "avg_charges": "14735.411452073316"
                                }
                            ]
                        },
                        "text/html": "<table><tr><th>region</th><th>avg_charges</th></tr><tr><td>northeast</td><td>13406.38453128014</td></tr><tr><td>southwest</td><td>12346.93732797476</td></tr><tr><td>northwest</td><td>12417.575369591346</td></tr><tr><td>southeast</td><td>14735.411452073316</td></tr></table>"
                    },
                    "metadata": {
                        "azdata_chartOptions": {
                            "type": "bar",
                            "dataDirection": "horizontal",
                            "columnsAsLabels": true,
                            "labelFirstColumn": true,
                            "legendPosition": "top",
                            "yAxisLabel": ""
                        }
                    }
                }
            ],
            "execution_count": 2
        }
    ]
}